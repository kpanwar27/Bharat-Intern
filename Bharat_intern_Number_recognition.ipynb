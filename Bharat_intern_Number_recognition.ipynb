{
  "nbformat": 4,
  "nbformat_minor": 0,
  "metadata": {
    "colab": {
      "provenance": []
    },
    "kernelspec": {
      "name": "python3",
      "display_name": "Python 3"
    },
    "language_info": {
      "name": "python"
    }
  },
  "cells": [
    {
      "cell_type": "code",
      "source": [
        "from google.colab import drive\n",
        "drive.mount('/content/drive')"
      ],
      "metadata": {
        "colab": {
          "base_uri": "https://localhost:8080/"
        },
        "id": "jMN-5U4k9lon",
        "outputId": "85082944-2a47-4d91-a92a-b4bccc070293"
      },
      "execution_count": 47,
      "outputs": [
        {
          "output_type": "stream",
          "name": "stdout",
          "text": [
            "Drive already mounted at /content/drive; to attempt to forcibly remount, call drive.mount(\"/content/drive\", force_remount=True).\n"
          ]
        }
      ]
    },
    {
      "cell_type": "code",
      "execution_count": 48,
      "metadata": {
        "id": "Bq50XQbp9iGQ"
      },
      "outputs": [],
      "source": [
        "import numpy as np\n",
        "import pandas as pd\n",
        "import matplotlib.pyplot as plt\n",
        "from sklearn.model_selection import train_test_split\n",
        "from sklearn.metrics import accuracy_score,classification_report, confusion_matrix\n",
        "import warnings\n",
        "warnings.filterwarnings('ignore')\n",
        "\n",
        "\n",
        "# import libraries from tensorflow\n",
        "from tensorflow import keras\n",
        "import tensorflow as tf\n",
        "from keras import backend as K\n",
        "from tensorflow.keras.models import Sequential\n",
        "from tensorflow.keras.layers import Flatten, Dense, Dropout,Input, BatchNormalization, LeakyReLU, ReLU\n",
        "from tensorflow.keras import layers\n",
        "from tensorflow.keras import optimizers\n",
        "from keras.utils.vis_utils import plot_model\n",
        "from tensorflow.keras.optimizers import Adam, SGD\n",
        "from tensorflow.keras.callbacks import ModelCheckpoint\n",
        "from tensorflow.keras.initializers import HeUniform"
      ]
    },
    {
      "cell_type": "code",
      "source": [
        "# Data source - \"https://www.kaggle.com/datasets/oddrationale/mnist-in-csv/code\"\n",
        "\n",
        "(x_train, y_train), (x_test, y_test) = tf.keras.datasets.mnist.load_data()"
      ],
      "metadata": {
        "id": "7OUY6oJW-W2U"
      },
      "execution_count": 49,
      "outputs": []
    },
    {
      "cell_type": "code",
      "source": [
        "print(x_train.shape)\n",
        "print(y_train.shape)"
      ],
      "metadata": {
        "colab": {
          "base_uri": "https://localhost:8080/"
        },
        "id": "HKpk5cP7-eux",
        "outputId": "e3d0fc2d-0d51-4c4a-81fc-ef0815d41cc5"
      },
      "execution_count": 50,
      "outputs": [
        {
          "output_type": "stream",
          "name": "stdout",
          "text": [
            "(60000, 28, 28)\n",
            "(60000,)\n"
          ]
        }
      ]
    },
    {
      "cell_type": "code",
      "source": [
        "print(x_test.shape)\n",
        "print(y_test.shape)"
      ],
      "metadata": {
        "colab": {
          "base_uri": "https://localhost:8080/"
        },
        "id": "CqSqeVoh-n7_",
        "outputId": "4d117034-6f5b-4ade-ebf9-eff705f48e35"
      },
      "execution_count": 51,
      "outputs": [
        {
          "output_type": "stream",
          "name": "stdout",
          "text": [
            "(10000, 28, 28)\n",
            "(10000,)\n"
          ]
        }
      ]
    },
    {
      "cell_type": "code",
      "source": [
        "x_train[10][10][11:20]"
      ],
      "metadata": {
        "colab": {
          "base_uri": "https://localhost:8080/"
        },
        "id": "PqTacATd-s9p",
        "outputId": "b60386ce-9759-40e9-f03d-85766c315960"
      },
      "execution_count": 52,
      "outputs": [
        {
          "output_type": "execute_result",
          "data": {
            "text/plain": [
              "array([  0,   0,  24, 209, 254, 254, 254, 171,   0], dtype=uint8)"
            ]
          },
          "metadata": {},
          "execution_count": 52
        }
      ]
    },
    {
      "cell_type": "code",
      "source": [
        "y_train[0:5]"
      ],
      "metadata": {
        "colab": {
          "base_uri": "https://localhost:8080/"
        },
        "id": "kbzsqd_RBL4-",
        "outputId": "55c7b2a9-8be4-4a6a-897a-df4986d13bc8"
      },
      "execution_count": 53,
      "outputs": [
        {
          "output_type": "execute_result",
          "data": {
            "text/plain": [
              "array([5, 0, 4, 1, 9], dtype=uint8)"
            ]
          },
          "metadata": {},
          "execution_count": 53
        }
      ]
    },
    {
      "cell_type": "code",
      "source": [
        "y_test[0:5]"
      ],
      "metadata": {
        "colab": {
          "base_uri": "https://localhost:8080/"
        },
        "id": "Gc6HpW7qBPHJ",
        "outputId": "e2386b8a-1220-470e-a0be-adaf4c09af8f"
      },
      "execution_count": 54,
      "outputs": [
        {
          "output_type": "execute_result",
          "data": {
            "text/plain": [
              "array([7, 2, 1, 0, 4], dtype=uint8)"
            ]
          },
          "metadata": {},
          "execution_count": 54
        }
      ]
    },
    {
      "cell_type": "code",
      "source": [
        "# Split the train data into train and val set\n",
        "\n",
        "X_train,X_val,Y_train,Y_val = train_test_split(x_train,y_train, test_size=0.2,random_state=27)"
      ],
      "metadata": {
        "id": "H-ieEQqQBVm0"
      },
      "execution_count": 55,
      "outputs": []
    },
    {
      "cell_type": "code",
      "source": [
        "# Checking the shape of data\n",
        "\n",
        "X_train.shape,X_val.shape, Y_train.shape,Y_val.shape"
      ],
      "metadata": {
        "colab": {
          "base_uri": "https://localhost:8080/"
        },
        "id": "lV1qy_P5BiTd",
        "outputId": "dd70cc63-5425-4b4e-d187-e2636da77954"
      },
      "execution_count": 56,
      "outputs": [
        {
          "output_type": "execute_result",
          "data": {
            "text/plain": [
              "((48000, 28, 28), (12000, 28, 28), (48000,), (12000,))"
            ]
          },
          "metadata": {},
          "execution_count": 56
        }
      ]
    },
    {
      "cell_type": "code",
      "source": [
        "X_train[5].shape"
      ],
      "metadata": {
        "colab": {
          "base_uri": "https://localhost:8080/"
        },
        "id": "SDVwH6ksBmGo",
        "outputId": "5fc2dbd9-8df9-41a8-e139-56e2232940a5"
      },
      "execution_count": 57,
      "outputs": [
        {
          "output_type": "execute_result",
          "data": {
            "text/plain": [
              "(28, 28)"
            ]
          },
          "metadata": {},
          "execution_count": 57
        }
      ]
    },
    {
      "cell_type": "code",
      "source": [
        "plt.imshow(X_train[90])"
      ],
      "metadata": {
        "colab": {
          "base_uri": "https://localhost:8080/",
          "height": 448
        },
        "id": "5nHU9bOGB0q0",
        "outputId": "8fa0b723-ce8d-44e8-eb6b-1d5388a85abd"
      },
      "execution_count": 58,
      "outputs": [
        {
          "output_type": "execute_result",
          "data": {
            "text/plain": [
              "<matplotlib.image.AxesImage at 0x7c3d5fd00370>"
            ]
          },
          "metadata": {},
          "execution_count": 58
        },
        {
          "output_type": "display_data",
          "data": {
            "text/plain": [
              "<Figure size 640x480 with 1 Axes>"
            ],
            "image/png": "[encoded data removed]"
          },
          "metadata": {}
        }
      ]
    },
    {
      "cell_type": "code",
      "source": [
        "# Verify the label\n",
        "\n",
        "Y_train[90]"
      ],
      "metadata": {
        "colab": {
          "base_uri": "https://localhost:8080/"
        },
        "id": "4TJQJh9vCYrp",
        "outputId": "391d2c06-1d73-4042-81e8-62eb7f6ec9ef"
      },
      "execution_count": 59,
      "outputs": [
        {
          "output_type": "execute_result",
          "data": {
            "text/plain": [
              "4"
            ]
          },
          "metadata": {},
          "execution_count": 59
        }
      ]
    },
    {
      "cell_type": "code",
      "source": [
        "# Scaling and modify dataset\n",
        "\n",
        "X_train_std= X_train.astype('float32')\n",
        "X_val_std= X_val.astype('float32')\n",
        "X_train_std /= 255\n",
        "X_val_std /=255"
      ],
      "metadata": {
        "id": "KKj-oaXwChVp"
      },
      "execution_count": 60,
      "outputs": []
    },
    {
      "cell_type": "code",
      "source": [
        "X_test_std= x_test.astype('float32')\n",
        "X_test_std = x_test/255"
      ],
      "metadata": {
        "id": "i4HQe-QxCze5"
      },
      "execution_count": 61,
      "outputs": []
    },
    {
      "cell_type": "code",
      "source": [
        "X_train_std[10][10]"
      ],
      "metadata": {
        "colab": {
          "base_uri": "https://localhost:8080/"
        },
        "id": "DCWRiQ8MC15K",
        "outputId": "82246031-bbaf-406e-a34a-b0578cc1c24e"
      },
      "execution_count": 62,
      "outputs": [
        {
          "output_type": "execute_result",
          "data": {
            "text/plain": [
              "array([0.        , 0.        , 0.        , 0.        , 0.        ,\n",
              "       0.        , 0.        , 0.        , 0.6627451 , 0.99607843,\n",
              "       0.99607843, 0.9137255 , 0.44313726, 0.22745098, 0.        ,\n",
              "       0.        , 0.        , 0.1764706 , 0.8352941 , 0.99607843,\n",
              "       0.9764706 , 0.12156863, 0.        , 0.        , 0.        ,\n",
              "       0.        , 0.        , 0.        ], dtype=float32)"
            ]
          },
          "metadata": {},
          "execution_count": 62
        }
      ]
    },
    {
      "cell_type": "code",
      "source": [
        "# One hot encoding of the target columns\n",
        "\n",
        "Y_train_cat=tf.keras.utils.to_categorical(Y_train)\n",
        "Y_val_cat=tf.keras.utils.to_categorical(Y_val)"
      ],
      "metadata": {
        "id": "vAjD9ysDC5uT"
      },
      "execution_count": 63,
      "outputs": []
    },
    {
      "cell_type": "code",
      "source": [
        "Y_test_cat=tf.keras.utils.to_categorical(y_test)"
      ],
      "metadata": {
        "id": "Jvcg9XA3DSDp"
      },
      "execution_count": 64,
      "outputs": []
    },
    {
      "cell_type": "code",
      "source": [
        "# Create a Deep Neural Network Model for Classification\n",
        "\n",
        "# Intialize the model\n",
        "\n",
        "model = tf.keras.models.Sequential()\n",
        "model.add(tf.keras.layers.Reshape((784,),input_shape=(28,28,)))"
      ],
      "metadata": {
        "id": "9YxOLhCnDURH"
      },
      "execution_count": 65,
      "outputs": []
    },
    {
      "cell_type": "code",
      "source": [
        "# Hidden layers\n",
        "\n",
        "model.add(tf.keras.layers.Dense(32, activation='sigmoid'))"
      ],
      "metadata": {
        "id": "o8QUasglDl_U"
      },
      "execution_count": 66,
      "outputs": []
    },
    {
      "cell_type": "code",
      "source": [
        "# Output layer\n",
        "\n",
        "model.add(tf.keras.layers.Dense(10, activation='softmax'))"
      ],
      "metadata": {
        "id": "BxfM_Li0DxVH"
      },
      "execution_count": 67,
      "outputs": []
    },
    {
      "cell_type": "code",
      "source": [
        "# Model Summary\n",
        "\n",
        "model.summary()"
      ],
      "metadata": {
        "colab": {
          "base_uri": "https://localhost:8080/"
        },
        "id": "quLweoTnD1G_",
        "outputId": "ba7bc993-51a2-48b5-cb21-8596be1442f6"
      },
      "execution_count": 68,
      "outputs": [
        {
          "output_type": "stream",
          "name": "stdout",
          "text": [
            "Model: \"sequential_3\"\n",
            "_________________________________________________________________\n",
            " Layer (type)                Output Shape              Param #   \n",
            "=================================================================\n",
            " reshape_3 (Reshape)         (None, 784)               0         \n",
            "                                                                 \n",
            " dense_12 (Dense)            (None, 32)                25120     \n",
            "                                                                 \n",
            " dense_13 (Dense)            (None, 10)                330       \n",
            "                                                                 \n",
            "=================================================================\n",
            "Total params: 25,450\n",
            "Trainable params: 25,450\n",
            "Non-trainable params: 0\n",
            "_________________________________________________________________\n"
          ]
        }
      ]
    },
    {
      "cell_type": "code",
      "source": [
        "# Compile the model\n",
        "\n",
        "callback = tf.keras.callbacks.EarlyStopping(monitor='val_loss', patience = 2,restore_best_weights=True)\n",
        "model.compile(optimizer=tf.keras.optimizers.Adam(learning_rate=0.002),\n",
        "              loss='categorical_crossentropy', metrics=['accuracy'])"
      ],
      "metadata": {
        "id": "iRX1aY38D45l"
      },
      "execution_count": 69,
      "outputs": []
    },
    {
      "cell_type": "code",
      "source": [
        "# Fitting the model\n",
        "\n",
        "train = model.fit(X_train_std, Y_train_cat,\n",
        "                  validation_data=(X_val_std,Y_val_cat),\n",
        "                  epochs=20,batch_size=32,\n",
        "                  callbacks=callback)"
      ],
      "metadata": {
        "colab": {
          "base_uri": "https://localhost:8080/"
        },
        "id": "ZkH2gkBbEDxS",
        "outputId": "a8b2e9f0-32af-4cd9-8cab-f42220995e30"
      },
      "execution_count": 70,
      "outputs": [
        {
          "output_type": "stream",
          "name": "stdout",
          "text": [
            "Epoch 1/20\n",
            "1500/1500 [==============================] - 6s 4ms/step - loss: 0.4711 - accuracy: 0.8866 - val_loss: 0.2653 - val_accuracy: 0.9252\n",
            "Epoch 2/20\n",
            "1500/1500 [==============================] - 3s 2ms/step - loss: 0.2161 - accuracy: 0.9397 - val_loss: 0.2067 - val_accuracy: 0.9393\n",
            "Epoch 3/20\n",
            "1500/1500 [==============================] - 4s 2ms/step - loss: 0.1689 - accuracy: 0.9518 - val_loss: 0.1767 - val_accuracy: 0.9489\n",
            "Epoch 4/20\n",
            "1500/1500 [==============================] - 5s 3ms/step - loss: 0.1417 - accuracy: 0.9592 - val_loss: 0.1594 - val_accuracy: 0.9535\n",
            "Epoch 5/20\n",
            "1500/1500 [==============================] - 5s 3ms/step - loss: 0.1233 - accuracy: 0.9651 - val_loss: 0.1493 - val_accuracy: 0.9567\n",
            "Epoch 6/20\n",
            "1500/1500 [==============================] - 4s 2ms/step - loss: 0.1095 - accuracy: 0.9689 - val_loss: 0.1438 - val_accuracy: 0.9564\n",
            "Epoch 7/20\n",
            "1500/1500 [==============================] - 4s 3ms/step - loss: 0.0991 - accuracy: 0.9716 - val_loss: 0.1395 - val_accuracy: 0.9588\n",
            "Epoch 8/20\n",
            "1500/1500 [==============================] - 5s 3ms/step - loss: 0.0904 - accuracy: 0.9742 - val_loss: 0.1358 - val_accuracy: 0.9602\n",
            "Epoch 9/20\n",
            "1500/1500 [==============================] - 4s 3ms/step - loss: 0.0831 - accuracy: 0.9768 - val_loss: 0.1368 - val_accuracy: 0.9589\n",
            "Epoch 10/20\n",
            "1500/1500 [==============================] - 3s 2ms/step - loss: 0.0760 - accuracy: 0.9787 - val_loss: 0.1355 - val_accuracy: 0.9596\n",
            "Epoch 11/20\n",
            "1500/1500 [==============================] - 5s 3ms/step - loss: 0.0712 - accuracy: 0.9796 - val_loss: 0.1352 - val_accuracy: 0.9592\n",
            "Epoch 12/20\n",
            "1500/1500 [==============================] - 4s 3ms/step - loss: 0.0658 - accuracy: 0.9814 - val_loss: 0.1398 - val_accuracy: 0.9586\n",
            "Epoch 13/20\n",
            "1500/1500 [==============================] - 4s 3ms/step - loss: 0.0620 - accuracy: 0.9827 - val_loss: 0.1326 - val_accuracy: 0.9604\n",
            "Epoch 14/20\n",
            "1500/1500 [==============================] - 4s 3ms/step - loss: 0.0577 - accuracy: 0.9839 - val_loss: 0.1369 - val_accuracy: 0.9588\n",
            "Epoch 15/20\n",
            "1500/1500 [==============================] - 4s 3ms/step - loss: 0.0537 - accuracy: 0.9857 - val_loss: 0.1393 - val_accuracy: 0.9581\n"
          ]
        }
      ]
    },
    {
      "cell_type": "code",
      "source": [
        "# Predicting X_test basis the built model\n",
        "\n",
        "y_pred = np.argmax(model.predict(X_test_std), axis=1)\n",
        "y_pred"
      ],
      "metadata": {
        "colab": {
          "base_uri": "https://localhost:8080/"
        },
        "id": "6Poi8pxqEIYy",
        "outputId": "fa80ddb5-be1b-4a9f-bcd7-3656c6c8f716"
      },
      "execution_count": 71,
      "outputs": [
        {
          "output_type": "stream",
          "name": "stdout",
          "text": [
            "313/313 [==============================] - 1s 2ms/step\n"
          ]
        },
        {
          "output_type": "execute_result",
          "data": {
            "text/plain": [
              "array([7, 2, 1, ..., 4, 5, 6])"
            ]
          },
          "metadata": {},
          "execution_count": 71
        }
      ]
    },
    {
      "cell_type": "code",
      "source": [
        "from sklearn.metrics import confusion_matrix\n",
        "\n",
        "confusion_matrix(y_test,y_pred)"
      ],
      "metadata": {
        "colab": {
          "base_uri": "https://localhost:8080/"
        },
        "id": "l70ab9oiEhFe",
        "outputId": "f2c0cb84-9da7-4c62-9630-d7aa8470a222"
      },
      "execution_count": 72,
      "outputs": [
        {
          "output_type": "execute_result",
          "data": {
            "text/plain": [
              "array([[ 965,    0,    2,    1,    0,    3,    7,    1,    1,    0],\n",
              "       [   0, 1115,    2,    3,    0,    0,    5,    3,    7,    0],\n",
              "       [   6,    1,  979,    4,    8,    2,    4,    7,   19,    2],\n",
              "       [   0,    0,    6,  968,    0,   12,    0,    9,   10,    5],\n",
              "       [   3,    0,    3,    0,  937,    0,   13,    5,    1,   20],\n",
              "       [   2,    0,    1,   14,    2,  846,   10,    2,   11,    4],\n",
              "       [   9,    3,    1,    0,    2,   10,  931,    1,    1,    0],\n",
              "       [   2,    5,   13,    5,    5,    0,    0,  989,    2,    7],\n",
              "       [   5,    3,    3,    4,    5,    5,    2,    5,  937,    5],\n",
              "       [   3,    5,    0,    5,   17,    8,    1,    7,    5,  958]])"
            ]
          },
          "metadata": {},
          "execution_count": 72
        }
      ]
    },
    {
      "cell_type": "code",
      "source": [
        "# validaitng the prediction that is run on X-test after model building with the actual values in X_test\n",
        "\n",
        "for i in range(2,7):\n",
        "  plt.figure(figsize=(2,2))\n",
        "  plt.imshow(X_test_std[i], cmap='gray')\n",
        "  plt.show()\n",
        "  print('Actual Label:',y_test[i])\n",
        "\n",
        "  print('Predicted Label:',y_pred[i])\n",
        "  print('_______________________________________')"
      ],
      "metadata": {
        "colab": {
          "base_uri": "https://localhost:8080/",
          "height": 1000
        },
        "id": "a2O-h5VXEkHp",
        "outputId": "68320ab2-cedb-4655-c063-3671bbfa59fe"
      },
      "execution_count": 73,
      "outputs": [
        {
          "output_type": "display_data",
          "data": {
            "text/plain": [
              "<Figure size 200x200 with 1 Axes>"
            ],
            "image/png": "[encoded data removed]"
          },
          "metadata": {}
        },
        {
          "output_type": "stream",
          "name": "stdout",
          "text": [
            "Actual Label: 1\n",
            "Predicted Label: 1\n",
            "_______________________________________\n"
          ]
        },
        {
          "output_type": "display_data",
          "data": {
            "text/plain": [
              "<Figure size 200x200 with 1 Axes>"
            ],
            "image/png": "[encoded data removed]"
          },
          "metadata": {}
        },
        {
          "output_type": "stream",
          "name": "stdout",
          "text": [
            "Actual Label: 0\n",
            "Predicted Label: 0\n",
            "_______________________________________\n"
          ]
        },
        {
          "output_type": "display_data",
          "data": {
            "text/plain": [
              "<Figure size 200x200 with 1 Axes>"
            ],
            "image/png": "[encoded data removed]"
          },
          "metadata": {}
        },
        {
          "output_type": "stream",
          "name": "stdout",
          "text": [
            "Actual Label: 4\n",
            "Predicted Label: 4\n",
            "_______________________________________\n"
          ]
        },
        {
          "output_type": "display_data",
          "data": {
            "text/plain": [
              "<Figure size 200x200 with 1 Axes>"
            ],
            "image/png": "[encoded data removed]"
          },
          "metadata": {}
        },
        {
          "output_type": "stream",
          "name": "stdout",
          "text": [
            "Actual Label: 1\n",
            "Predicted Label: 1\n",
            "_______________________________________\n"
          ]
        },
        {
          "output_type": "display_data",
          "data": {
            "text/plain": [
              "<Figure size 200x200 with 1 Axes>"
            ],
            "image/png": "[encoded data removed]"
          },
          "metadata": {}
        },
        {
          "output_type": "stream",
          "name": "stdout",
          "text": [
            "Actual Label: 4\n",
            "Predicted Label: 4\n",
            "_______________________________________\n"
          ]
        }
      ]
    },
    {
      "cell_type": "code",
      "source": [
        "plt.plot(train.history['accuracy'])\n",
        "plt.plot(train.history['val_accuracy'])\n",
        "plt.title('model accuracy')\n",
        "plt.ylabel('accuracy')\n",
        "plt.xlabel('epoch')\n",
        "plt.legend(['train', 'Val'], loc='upper left')\n",
        "plt.show()\n",
        "\n",
        "# summarize history for loss\n",
        "\n",
        "plt.plot(train.history['loss'])\n",
        "plt.plot(train.history['val_loss'])\n",
        "plt.title('model loss')\n",
        "plt.ylabel('loss')\n",
        "plt.xlabel('epoch')\n",
        "plt.legend(['train', 'val'], loc='upper left')\n",
        "plt.show()"
      ],
      "metadata": {
        "colab": {
          "base_uri": "https://localhost:8080/",
          "height": 927
        },
        "id": "hEJif1w4EwRm",
        "outputId": "b6b45854-2826-44c2-8a6b-4a3f06c47889"
      },
      "execution_count": 74,
      "outputs": [
        {
          "output_type": "display_data",
          "data": {
            "text/plain": [
              "<Figure size 640x480 with 1 Axes>"
            ],
            "image/png": "[encoded data removed]"
          },
          "metadata": {}
        },
        {
          "output_type": "display_data",
          "data": {
            "text/plain": [
              "<Figure size 640x480 with 1 Axes>"
            ],
            "image/png": "[encoded data removed]"
          },
          "metadata": {}
        }
      ]
    },
    {
      "cell_type": "code",
      "source": [
        "# Model Building with dropout\n",
        "\n",
        "#Intialize the model\n",
        "model2 = tf.keras.models.Sequential()\n",
        "model2.add(tf.keras.layers.Reshape((784,),input_shape=(28,28,)))\n",
        "\n",
        "#Hidden layers\n",
        "model2.add(tf.keras.layers.Dense(128, activation=LeakyReLU()))\n",
        "\n",
        "#Dropout layer\n",
        "model2.add(tf.keras.layers.Dropout(0.15))\n",
        "\n",
        "model2.add(tf.keras.layers.Dense(256, activation=LeakyReLU()))\n",
        "model2.add(tf.keras.layers.Dropout(0.15))\n",
        "\n",
        "model2.add(tf.keras.layers.Dense(128, activation=LeakyReLU()))\n",
        "model2.add(tf.keras.layers.Dropout(0.15))\n",
        "\n",
        "model2.add(tf.keras.layers.Dense(64, activation=LeakyReLU()))\n",
        "model2.add(tf.keras.layers.Dropout(0.15))\n",
        "\n",
        "#Output layer\n",
        "model2.add(tf.keras.layers.Dense(10, activation='softmax'))"
      ],
      "metadata": {
        "id": "tE2f9T2oFGQ6"
      },
      "execution_count": 75,
      "outputs": []
    },
    {
      "cell_type": "code",
      "source": [
        "model2.summary()"
      ],
      "metadata": {
        "colab": {
          "base_uri": "https://localhost:8080/"
        },
        "id": "e2aqJjSgFO5-",
        "outputId": "fd8e2fd5-3ab6-4e8c-84c5-edc022ec63fc"
      },
      "execution_count": 76,
      "outputs": [
        {
          "output_type": "stream",
          "name": "stdout",
          "text": [
            "Model: \"sequential_4\"\n",
            "_________________________________________________________________\n",
            " Layer (type)                Output Shape              Param #   \n",
            "=================================================================\n",
            " reshape_4 (Reshape)         (None, 784)               0         \n",
            "                                                                 \n",
            " dense_14 (Dense)            (None, 128)               100480    \n",
            "                                                                 \n",
            " dropout_4 (Dropout)         (None, 128)               0         \n",
            "                                                                 \n",
            " dense_15 (Dense)            (None, 256)               33024     \n",
            "                                                                 \n",
            " dropout_5 (Dropout)         (None, 256)               0         \n",
            "                                                                 \n",
            " dense_16 (Dense)            (None, 128)               32896     \n",
            "                                                                 \n",
            " dropout_6 (Dropout)         (None, 128)               0         \n",
            "                                                                 \n",
            " dense_17 (Dense)            (None, 64)                8256      \n",
            "                                                                 \n",
            " dropout_7 (Dropout)         (None, 64)                0         \n",
            "                                                                 \n",
            " dense_18 (Dense)            (None, 10)                650       \n",
            "                                                                 \n",
            "=================================================================\n",
            "Total params: 175,306\n",
            "Trainable params: 175,306\n",
            "Non-trainable params: 0\n",
            "_________________________________________________________________\n"
          ]
        }
      ]
    },
    {
      "cell_type": "code",
      "source": [
        "model2.compile(optimizer='adam', loss='categorical_crossentropy', metrics=['accuracy'])\n",
        "\n",
        "\n",
        "chkpt = ModelCheckpoint('/content/checkpoint', monitor='val_loss', save_best_only=True,save_freq='epoch')\n",
        "callback = tf.keras.callbacks.EarlyStopping(monitor='val_loss', patience = 5,restore_best_weights=True)"
      ],
      "metadata": {
        "id": "H14OP93jFRc2"
      },
      "execution_count": 77,
      "outputs": []
    },
    {
      "cell_type": "code",
      "source": [
        "# Fitting the model\n",
        "\n",
        "train2 = model2.fit(X_train_std, Y_train_cat,\n",
        "                  validation_data=(X_val_std,Y_val_cat),\n",
        "                  epochs=10,batch_size=32,\n",
        "                  callbacks=callback)"
      ],
      "metadata": {
        "colab": {
          "base_uri": "https://localhost:8080/"
        },
        "id": "Hr0Sw2UIFakr",
        "outputId": "eea866de-33f7-4f40-d310-78a3ca9bb44c"
      },
      "execution_count": 78,
      "outputs": [
        {
          "output_type": "stream",
          "name": "stdout",
          "text": [
            "Epoch 1/10\n",
            "1500/1500 [==============================] - 11s 6ms/step - loss: 0.3377 - accuracy: 0.8961 - val_loss: 0.1867 - val_accuracy: 0.9431\n",
            "Epoch 2/10\n",
            "1500/1500 [==============================] - 12s 8ms/step - loss: 0.2018 - accuracy: 0.9405 - val_loss: 0.1425 - val_accuracy: 0.9587\n",
            "Epoch 3/10\n",
            "1500/1500 [==============================] - 12s 8ms/step - loss: 0.1642 - accuracy: 0.9500 - val_loss: 0.1290 - val_accuracy: 0.9611\n",
            "Epoch 4/10\n",
            "1500/1500 [==============================] - 8s 5ms/step - loss: 0.1475 - accuracy: 0.9547 - val_loss: 0.1365 - val_accuracy: 0.9605\n",
            "Epoch 5/10\n",
            "1500/1500 [==============================] - 11s 7ms/step - loss: 0.1353 - accuracy: 0.9589 - val_loss: 0.1221 - val_accuracy: 0.9632\n",
            "Epoch 6/10\n",
            "1500/1500 [==============================] - 10s 7ms/step - loss: 0.1252 - accuracy: 0.9616 - val_loss: 0.1148 - val_accuracy: 0.9673\n",
            "Epoch 7/10\n",
            "1500/1500 [==============================] - 10s 7ms/step - loss: 0.1172 - accuracy: 0.9648 - val_loss: 0.1185 - val_accuracy: 0.9662\n",
            "Epoch 8/10\n",
            "1500/1500 [==============================] - 9s 6ms/step - loss: 0.1100 - accuracy: 0.9667 - val_loss: 0.1115 - val_accuracy: 0.9679\n",
            "Epoch 9/10\n",
            "1500/1500 [==============================] - 11s 7ms/step - loss: 0.1090 - accuracy: 0.9662 - val_loss: 0.1036 - val_accuracy: 0.9698\n",
            "Epoch 10/10\n",
            "1500/1500 [==============================] - 9s 6ms/step - loss: 0.1023 - accuracy: 0.9682 - val_loss: 0.0937 - val_accuracy: 0.9728\n"
          ]
        }
      ]
    },
    {
      "cell_type": "code",
      "source": [
        "y_pred_dropout = np.argmax(model2.predict(X_test_std), axis=1)\n",
        "y_pred_dropout"
      ],
      "metadata": {
        "colab": {
          "base_uri": "https://localhost:8080/"
        },
        "id": "l1N04ECtFegb",
        "outputId": "8affcc3c-41c4-42ae-ec6c-5a6c3cc94755"
      },
      "execution_count": 79,
      "outputs": [
        {
          "output_type": "stream",
          "name": "stdout",
          "text": [
            "313/313 [==============================] - 1s 2ms/step\n"
          ]
        },
        {
          "output_type": "execute_result",
          "data": {
            "text/plain": [
              "array([7, 2, 1, ..., 4, 5, 6])"
            ]
          },
          "metadata": {},
          "execution_count": 79
        }
      ]
    },
    {
      "cell_type": "code",
      "source": [
        "from sklearn.metrics import confusion_matrix\n",
        "confusion_matrix(y_test,y_pred_dropout)"
      ],
      "metadata": {
        "colab": {
          "base_uri": "https://localhost:8080/"
        },
        "id": "WUJaFYLjGv8F",
        "outputId": "99a6b19a-08c0-41e8-d08e-1fc8f5c5c686"
      },
      "execution_count": 80,
      "outputs": [
        {
          "output_type": "execute_result",
          "data": {
            "text/plain": [
              "array([[ 965,    0,    1,    0,    3,    1,    3,    1,    2,    4],\n",
              "       [   0, 1123,    4,    0,    0,    1,    2,    0,    5,    0],\n",
              "       [   1,    0, 1011,    5,    4,    0,    1,    5,    5,    0],\n",
              "       [   0,    0,   10,  974,    2,   11,    0,    5,    6,    2],\n",
              "       [   0,    0,    2,    0,  964,    0,    4,    3,    2,    7],\n",
              "       [   2,    0,    0,    7,    0,  867,    5,    0,   10,    1],\n",
              "       [   6,    3,    0,    0,   11,    5,  924,    0,    9,    0],\n",
              "       [   1,    5,   12,    2,    0,    1,    0, 1001,    0,    6],\n",
              "       [   3,    1,    4,    4,    3,    3,    2,    3,  946,    5],\n",
              "       [   2,    4,    0,    5,    8,    5,    0,    2,    1,  982]])"
            ]
          },
          "metadata": {},
          "execution_count": 80
        }
      ]
    },
    {
      "cell_type": "code",
      "source": [
        "plt.plot(train2.history['accuracy'])\n",
        "plt.plot(train2.history['val_accuracy'])\n",
        "plt.title('model accuracy')\n",
        "plt.ylabel('accuracy')\n",
        "plt.xlabel('epoch')\n",
        "plt.legend(['train', 'Val'], loc='upper left')\n",
        "plt.show()\n",
        "\n",
        "# summarize history for loss\n",
        "\n",
        "plt.plot(train2.history['loss'])\n",
        "plt.plot(train2.history['val_loss'])\n",
        "plt.title('model loss')\n",
        "plt.ylabel('loss')\n",
        "plt.xlabel('epoch')\n",
        "plt.legend(['train', 'val'], loc='upper left')\n",
        "plt.show()"
      ],
      "metadata": {
        "colab": {
          "base_uri": "https://localhost:8080/",
          "height": 927
        },
        "id": "CWFt5c7tGx2w",
        "outputId": "7f38e1aa-3557-42b7-e4e2-724543b37270"
      },
      "execution_count": 81,
      "outputs": [
        {
          "output_type": "display_data",
          "data": {
            "text/plain": [
              "<Figure size 640x480 with 1 Axes>"
            ],
            "image/png": "[encoded data removed]"
          },
          "metadata": {}
        },
        {
          "output_type": "display_data",
          "data": {
            "text/plain": [
              "<Figure size 640x480 with 1 Axes>"
            ],
            "image/png": "[encoded data removed]"
          },
          "metadata": {}
        }
      ]
    },
    {
      "cell_type": "code",
      "source": [
        "# Model Building with Batch Normalization and other hyperparameters\n",
        "\n",
        "# Create another Deep Neural Network Model for classsification to experiment with other hyper-parameters."
      ],
      "metadata": {
        "id": "uhj_idMEG1N3"
      },
      "execution_count": 82,
      "outputs": []
    },
    {
      "cell_type": "code",
      "source": [
        "# Intialize the model\n",
        "\n",
        "model_3 = tf.keras.models.Sequential()\n",
        "model_3.add(tf.keras.layers.Reshape((784,),input_shape=(28,28,)))\n",
        "\n",
        "# Add new layer\n",
        "\n",
        "model_3.add(Dense(256,activation='relu', kernel_initializer=HeUniform(seed=7)))\n",
        "\n",
        "# BN for regularization to prevent overefitting\n",
        "\n",
        "model_3.add(BatchNormalization(momentum=0.6))\n",
        "\n",
        "model_3.add(Dense(128, activation='relu',kernel_initializer=HeUniform(seed=7)))\n",
        "model_3.add(BatchNormalization(momentum=0.6))\n",
        "\n",
        "model_3.add(Dense(64, activation='relu',kernel_initializer=HeUniform(seed=7)))\n",
        "model_3.add(BatchNormalization(momentum=0.6))\n",
        "\n",
        "model_3.add(Dense(32, activation='relu',kernel_initializer=HeUniform(seed=7)))\n",
        "\n",
        "# Output layer\n",
        "\n",
        "model_3.add(tf.keras.layers.Dense(10, activation='softmax'))"
      ],
      "metadata": {
        "id": "xO4FmezgHgIk"
      },
      "execution_count": 83,
      "outputs": []
    },
    {
      "cell_type": "code",
      "source": [
        "model_3.summary()"
      ],
      "metadata": {
        "colab": {
          "base_uri": "https://localhost:8080/"
        },
        "id": "zo4eC2ZZHrIj",
        "outputId": "2acdc263-c3b4-4465-a41f-39f0fed00c1d"
      },
      "execution_count": 84,
      "outputs": [
        {
          "output_type": "stream",
          "name": "stdout",
          "text": [
            "Model: \"sequential_5\"\n",
            "_________________________________________________________________\n",
            " Layer (type)                Output Shape              Param #   \n",
            "=================================================================\n",
            " reshape_5 (Reshape)         (None, 784)               0         \n",
            "                                                                 \n",
            " dense_19 (Dense)            (None, 256)               200960    \n",
            "                                                                 \n",
            " batch_normalization_3 (Batc  (None, 256)              1024      \n",
            " hNormalization)                                                 \n",
            "                                                                 \n",
            " dense_20 (Dense)            (None, 128)               32896     \n",
            "                                                                 \n",
            " batch_normalization_4 (Batc  (None, 128)              512       \n",
            " hNormalization)                                                 \n",
            "                                                                 \n",
            " dense_21 (Dense)            (None, 64)                8256      \n",
            "                                                                 \n",
            " batch_normalization_5 (Batc  (None, 64)               256       \n",
            " hNormalization)                                                 \n",
            "                                                                 \n",
            " dense_22 (Dense)            (None, 32)                2080      \n",
            "                                                                 \n",
            " dense_23 (Dense)            (None, 10)                330       \n",
            "                                                                 \n",
            "=================================================================\n",
            "Total params: 246,314\n",
            "Trainable params: 245,418\n",
            "Non-trainable params: 896\n",
            "_________________________________________________________________\n"
          ]
        }
      ]
    },
    {
      "cell_type": "code",
      "source": [
        "chkpt = ModelCheckpoint('/content/checkpoint', monitor='val_loss', save_best_only=True,save_freq='epoch')\n",
        "\n",
        "callback = tf.keras.callbacks.EarlyStopping(monitor='val_loss', patience = 5,restore_best_weights=True)\n",
        "\n",
        "model_3.compile(optimizer=tf.keras.optimizers.Adam(learning_rate=0.0005),\n",
        "              loss='categorical_crossentropy', metrics=['accuracy'])"
      ],
      "metadata": {
        "id": "VTg1QHLsHs6t"
      },
      "execution_count": 85,
      "outputs": []
    },
    {
      "cell_type": "code",
      "source": [
        "# Train the model\n",
        "\n",
        "train_3 = model_3.fit(X_train_std,Y_train_cat,\n",
        "          validation_data=(X_val_std,Y_val_cat),\n",
        "          epochs=40, batch_size=32, callbacks=[callback,chkpt])"
      ],
      "metadata": {
        "colab": {
          "base_uri": "https://localhost:8080/"
        },
        "id": "YmKuJ3ywHwCB",
        "outputId": "0f39a8a8-57f3-4130-ef45-98707daccc27"
      },
      "execution_count": 86,
      "outputs": [
        {
          "output_type": "stream",
          "name": "stdout",
          "text": [
            "Epoch 1/40\n",
            "1495/1500 [============================>.] - ETA: 0s - loss: 0.3374 - accuracy: 0.9010"
          ]
        },
        {
          "output_type": "stream",
          "name": "stderr",
          "text": [
            "WARNING:absl:Found untraced functions such as _update_step_xla while saving (showing 1 of 1). These functions will not be directly callable after loading.\n"
          ]
        },
        {
          "output_type": "stream",
          "name": "stdout",
          "text": [
            "\b\b\b\b\b\b\b\b\b\b\b\b\b\b\b\b\b\b\b\b\b\b\b\b\b\b\b\b\b\b\b\b\b\b\b\b\b\b\b\b\b\b\b\b\b\b\b\b\b\b\b\b\b\b\b\b\b\b\b\b\b\b\b\b\b\b\b\b\b\b\b\b\b\b\b\b\b\b\b\b\b\b\b\b\b\b\r1500/1500 [==============================] - 18s 10ms/step - loss: 0.3371 - accuracy: 0.9011 - val_loss: 0.1342 - val_accuracy: 0.9597\n",
            "Epoch 2/40\n",
            "1498/1500 [============================>.] - ETA: 0s - loss: 0.1385 - accuracy: 0.9574"
          ]
        },
        {
          "output_type": "stream",
          "name": "stderr",
          "text": [
            "WARNING:absl:Found untraced functions such as _update_step_xla while saving (showing 1 of 1). These functions will not be directly callable after loading.\n"
          ]
        },
        {
          "output_type": "stream",
          "name": "stdout",
          "text": [
            "\b\b\b\b\b\b\b\b\b\b\b\b\b\b\b\b\b\b\b\b\b\b\b\b\b\b\b\b\b\b\b\b\b\b\b\b\b\b\b\b\b\b\b\b\b\b\b\b\b\b\b\b\b\b\b\b\b\b\b\b\b\b\b\b\b\b\b\b\b\b\b\b\b\b\b\b\b\b\b\b\b\b\b\b\b\b\r1500/1500 [==============================] - 15s 10ms/step - loss: 0.1386 - accuracy: 0.9574 - val_loss: 0.1090 - val_accuracy: 0.9678\n",
            "Epoch 3/40\n",
            "1494/1500 [============================>.] - ETA: 0s - loss: 0.1030 - accuracy: 0.9677"
          ]
        },
        {
          "output_type": "stream",
          "name": "stderr",
          "text": [
            "WARNING:absl:Found untraced functions such as _update_step_xla while saving (showing 1 of 1). These functions will not be directly callable after loading.\n"
          ]
        },
        {
          "output_type": "stream",
          "name": "stdout",
          "text": [
            "\b\b\b\b\b\b\b\b\b\b\b\b\b\b\b\b\b\b\b\b\b\b\b\b\b\b\b\b\b\b\b\b\b\b\b\b\b\b\b\b\b\b\b\b\b\b\b\b\b\b\b\b\b\b\b\b\b\b\b\b\b\b\b\b\b\b\b\b\b\b\b\b\b\b\b\b\b\b\b\b\b\b\b\b\b\b\r1500/1500 [==============================] - 16s 11ms/step - loss: 0.1031 - accuracy: 0.9676 - val_loss: 0.1056 - val_accuracy: 0.9682\n",
            "Epoch 4/40\n",
            "1497/1500 [============================>.] - ETA: 0s - loss: 0.0822 - accuracy: 0.9736"
          ]
        },
        {
          "output_type": "stream",
          "name": "stderr",
          "text": [
            "WARNING:absl:Found untraced functions such as _update_step_xla while saving (showing 1 of 1). These functions will not be directly callable after loading.\n"
          ]
        },
        {
          "output_type": "stream",
          "name": "stdout",
          "text": [
            "\b\b\b\b\b\b\b\b\b\b\b\b\b\b\b\b\b\b\b\b\b\b\b\b\b\b\b\b\b\b\b\b\b\b\b\b\b\b\b\b\b\b\b\b\b\b\b\b\b\b\b\b\b\b\b\b\b\b\b\b\b\b\b\b\b\b\b\b\b\b\b\b\b\b\b\b\b\b\b\b\b\b\b\b\b\b\r1500/1500 [==============================] - 15s 10ms/step - loss: 0.0822 - accuracy: 0.9736 - val_loss: 0.1002 - val_accuracy: 0.9706\n",
            "Epoch 5/40\n",
            "1500/1500 [==============================] - ETA: 0s - loss: 0.0708 - accuracy: 0.9776"
          ]
        },
        {
          "output_type": "stream",
          "name": "stderr",
          "text": [
            "WARNING:absl:Found untraced functions such as _update_step_xla while saving (showing 1 of 1). These functions will not be directly callable after loading.\n"
          ]
        },
        {
          "output_type": "stream",
          "name": "stdout",
          "text": [
            "\b\b\b\b\b\b\b\b\b\b\b\b\b\b\b\b\b\b\b\b\b\b\b\b\b\b\b\b\b\b\b\b\b\b\b\b\b\b\b\b\b\b\b\b\b\b\b\b\b\b\b\b\b\b\b\b\b\b\b\b\b\b\b\b\b\b\b\b\b\b\b\b\b\b\b\b\b\b\b\b\b\b\b\b\b\b\r1500/1500 [==============================] - 16s 11ms/step - loss: 0.0708 - accuracy: 0.9776 - val_loss: 0.0955 - val_accuracy: 0.9722\n",
            "Epoch 6/40\n",
            "1500/1500 [==============================] - ETA: 0s - loss: 0.0616 - accuracy: 0.9805"
          ]
        },
        {
          "output_type": "stream",
          "name": "stderr",
          "text": [
            "WARNING:absl:Found untraced functions such as _update_step_xla while saving (showing 1 of 1). These functions will not be directly callable after loading.\n"
          ]
        },
        {
          "output_type": "stream",
          "name": "stdout",
          "text": [
            "\b\b\b\b\b\b\b\b\b\b\b\b\b\b\b\b\b\b\b\b\b\b\b\b\b\b\b\b\b\b\b\b\b\b\b\b\b\b\b\b\b\b\b\b\b\b\b\b\b\b\b\b\b\b\b\b\b\b\b\b\b\b\b\b\b\b\b\b\b\b\b\b\b\b\b\b\b\b\b\b\b\b\b\b\b\b\r1500/1500 [==============================] - 17s 11ms/step - loss: 0.0616 - accuracy: 0.9805 - val_loss: 0.0888 - val_accuracy: 0.9737\n",
            "Epoch 7/40\n",
            "1499/1500 [============================>.] - ETA: 0s - loss: 0.0548 - accuracy: 0.9825"
          ]
        },
        {
          "output_type": "stream",
          "name": "stderr",
          "text": [
            "WARNING:absl:Found untraced functions such as _update_step_xla while saving (showing 1 of 1). These functions will not be directly callable after loading.\n"
          ]
        },
        {
          "output_type": "stream",
          "name": "stdout",
          "text": [
            "\b\b\b\b\b\b\b\b\b\b\b\b\b\b\b\b\b\b\b\b\b\b\b\b\b\b\b\b\b\b\b\b\b\b\b\b\b\b\b\b\b\b\b\b\b\b\b\b\b\b\b\b\b\b\b\b\b\b\b\b\b\b\b\b\b\b\b\b\b\b\b\b\b\b\b\b\b\b\b\b\b\b\b\b\b\b\r1500/1500 [==============================] - 15s 10ms/step - loss: 0.0548 - accuracy: 0.9825 - val_loss: 0.0872 - val_accuracy: 0.9751\n",
            "Epoch 8/40\n",
            "1500/1500 [==============================] - 11s 8ms/step - loss: 0.0495 - accuracy: 0.9844 - val_loss: 0.0965 - val_accuracy: 0.9738\n",
            "Epoch 9/40\n",
            "1500/1500 [==============================] - 12s 8ms/step - loss: 0.0451 - accuracy: 0.9851 - val_loss: 0.0941 - val_accuracy: 0.9741\n",
            "Epoch 10/40\n",
            "1500/1500 [==============================] - 13s 9ms/step - loss: 0.0401 - accuracy: 0.9867 - val_loss: 0.0907 - val_accuracy: 0.9749\n",
            "Epoch 11/40\n",
            "1500/1500 [==============================] - 12s 8ms/step - loss: 0.0363 - accuracy: 0.9882 - val_loss: 0.0958 - val_accuracy: 0.9747\n",
            "Epoch 12/40\n",
            "1498/1500 [============================>.] - ETA: 0s - loss: 0.0347 - accuracy: 0.9886"
          ]
        },
        {
          "output_type": "stream",
          "name": "stderr",
          "text": [
            "WARNING:absl:Found untraced functions such as _update_step_xla while saving (showing 1 of 1). These functions will not be directly callable after loading.\n"
          ]
        },
        {
          "output_type": "stream",
          "name": "stdout",
          "text": [
            "\b\b\b\b\b\b\b\b\b\b\b\b\b\b\b\b\b\b\b\b\b\b\b\b\b\b\b\b\b\b\b\b\b\b\b\b\b\b\b\b\b\b\b\b\b\b\b\b\b\b\b\b\b\b\b\b\b\b\b\b\b\b\b\b\b\b\b\b\b\b\b\b\b\b\b\b\b\b\b\b\b\b\b\b\b\b\r1500/1500 [==============================] - 15s 10ms/step - loss: 0.0346 - accuracy: 0.9886 - val_loss: 0.0833 - val_accuracy: 0.9779\n",
            "Epoch 13/40\n",
            "1500/1500 [==============================] - 13s 8ms/step - loss: 0.0299 - accuracy: 0.9905 - val_loss: 0.0877 - val_accuracy: 0.9771\n",
            "Epoch 14/40\n",
            "1500/1500 [==============================] - 13s 9ms/step - loss: 0.0289 - accuracy: 0.9908 - val_loss: 0.0970 - val_accuracy: 0.9757\n",
            "Epoch 15/40\n",
            "1500/1500 [==============================] - 12s 8ms/step - loss: 0.0272 - accuracy: 0.9909 - val_loss: 0.0862 - val_accuracy: 0.9775\n",
            "Epoch 16/40\n",
            "1500/1500 [==============================] - 14s 9ms/step - loss: 0.0253 - accuracy: 0.9915 - val_loss: 0.0890 - val_accuracy: 0.9776\n",
            "Epoch 17/40\n",
            "1500/1500 [==============================] - 13s 9ms/step - loss: 0.0249 - accuracy: 0.9910 - val_loss: 0.1015 - val_accuracy: 0.9751\n"
          ]
        }
      ]
    },
    {
      "cell_type": "code",
      "source": [
        "y_pred_BN = model_3.predict(X_test_std)"
      ],
      "metadata": {
        "colab": {
          "base_uri": "https://localhost:8080/"
        },
        "id": "wJwSiNwsH0TL",
        "outputId": "2dc5e539-5e3a-479e-b431-d42c3f05c50b"
      },
      "execution_count": 87,
      "outputs": [
        {
          "output_type": "stream",
          "name": "stdout",
          "text": [
            "313/313 [==============================] - 1s 3ms/step\n"
          ]
        }
      ]
    },
    {
      "cell_type": "code",
      "source": [
        "from sklearn.metrics import confusion_matrix\n",
        "confusion_matrix(y_test,y_pred)"
      ],
      "metadata": {
        "colab": {
          "base_uri": "https://localhost:8080/"
        },
        "id": "Tm59Gf1YKRnQ",
        "outputId": "2f77752e-d4ed-4964-d43f-c5e640b83623"
      },
      "execution_count": 88,
      "outputs": [
        {
          "output_type": "execute_result",
          "data": {
            "text/plain": [
              "array([[ 965,    0,    2,    1,    0,    3,    7,    1,    1,    0],\n",
              "       [   0, 1115,    2,    3,    0,    0,    5,    3,    7,    0],\n",
              "       [   6,    1,  979,    4,    8,    2,    4,    7,   19,    2],\n",
              "       [   0,    0,    6,  968,    0,   12,    0,    9,   10,    5],\n",
              "       [   3,    0,    3,    0,  937,    0,   13,    5,    1,   20],\n",
              "       [   2,    0,    1,   14,    2,  846,   10,    2,   11,    4],\n",
              "       [   9,    3,    1,    0,    2,   10,  931,    1,    1,    0],\n",
              "       [   2,    5,   13,    5,    5,    0,    0,  989,    2,    7],\n",
              "       [   5,    3,    3,    4,    5,    5,    2,    5,  937,    5],\n",
              "       [   3,    5,    0,    5,   17,    8,    1,    7,    5,  958]])"
            ]
          },
          "metadata": {},
          "execution_count": 88
        }
      ]
    },
    {
      "cell_type": "code",
      "source": [
        "# In the above model built with Batch Normalization we see that the training accuracy is 0.99 and the test accuracy is 0.98.\n",
        "\n",
        "# With batch normalization we see that both the train and test accuracy is better than the previous 2 models."
      ],
      "metadata": {
        "id": "CVvG41XsKS2i"
      },
      "execution_count": 89,
      "outputs": []
    },
    {
      "cell_type": "code",
      "source": [
        "accuracy = train_3.history['accuracy']\n",
        "val_accuracy = train_3.history['val_accuracy']\n",
        "loss = train_3.history['loss']\n",
        "val_loss = train_3.history['val_loss']\n",
        "\n",
        "epochs = range(len(accuracy)) # Get number of epochs\n",
        "\n",
        "plt.plot(epochs, accuracy, label = 'training accuracy' )\n",
        "plt.plot(epochs, val_accuracy, label = 'validation accuracy')\n",
        "plt.title('Training and validation accuracy')\n",
        "plt.legend(loc = 'lower right')\n",
        "plt.figure()\n",
        "\n",
        "plt.plot(epochs, loss, label = 'training loss' )\n",
        "plt.plot(epochs, val_loss, label = 'validation loss')\n",
        "plt.legend(loc = 'upper right')\n",
        "plt.title('Training and validation loss')"
      ],
      "metadata": {
        "colab": {
          "base_uri": "https://localhost:8080/",
          "height": 905
        },
        "id": "pwE3Bv_DKoXD",
        "outputId": "8a9c8500-efb9-41af-b429-bc885ee5e2a3"
      },
      "execution_count": 90,
      "outputs": [
        {
          "output_type": "execute_result",
          "data": {
            "text/plain": [
              "Text(0.5, 1.0, 'Training and validation loss')"
            ]
          },
          "metadata": {},
          "execution_count": 90
        },
        {
          "output_type": "display_data",
          "data": {
            "text/plain": [
              "<Figure size 640x480 with 1 Axes>"
            ],
            "image/png": "[encoded data removed]"
          },
          "metadata": {}
        },
        {
          "output_type": "display_data",
          "data": {
            "text/plain": [
              "<Figure size 640x480 with 1 Axes>"
            ],
            "image/png": "[encoded data removed]"
          },
          "metadata": {}
        }
      ]
    },
    {
      "cell_type": "code",
      "source": [],
      "metadata": {
        "id": "_7detUdxKqPU"
      },
      "execution_count": 90,
      "outputs": []
    }
  ]
}